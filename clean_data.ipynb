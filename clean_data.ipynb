{
 "cells": [
  {
   "cell_type": "code",
   "execution_count": 472,
   "metadata": {
    "collapsed": true
   },
   "outputs": [],
   "source": [
    "import numpy as np\n",
    "import pandas as pd\n",
    "import os\n",
    "import re\n",
    "from glob import glob \n",
    "from os.path import basename \n",
    "from scipy.misc import imread \n",
    "from scipy.misc import imresize \n",
    "import matplotlib.pyplot as plt\n",
    "from sklearn.neural_network import MLPClassifier\n",
    "from sklearn.model_selection import train_test_split\n",
    "from sklearn.preprocessing import MinMaxScaler, StandardScaler\n",
    "from sklearn.pipeline import make_pipeline\n"
   ]
  },
  {
   "cell_type": "code",
   "execution_count": 473,
   "metadata": {
    "collapsed": true
   },
   "outputs": [],
   "source": [
    "HEADER = 14"
   ]
  },
  {
   "cell_type": "code",
   "execution_count": 474,
   "metadata": {},
   "outputs": [],
   "source": [
    "path = \"data/weather/\"\n",
    "data = pd.DataFrame()"
   ]
  },
  {
   "cell_type": "code",
   "execution_count": 475,
   "metadata": {},
   "outputs": [],
   "source": [
    "allFiles = [pd.read_csv(path+files, header=HEADER) for files in os.listdir(path)]\n",
    "data = pd.concat(allFiles)\n",
    "# combine all weather data"
   ]
  },
  {
   "cell_type": "code",
   "execution_count": 476,
   "metadata": {
    "collapsed": true
   },
   "outputs": [],
   "source": [
    "data_weather = pd.DataFrame()"
   ]
  },
  {
   "cell_type": "code",
   "execution_count": 477,
   "metadata": {},
   "outputs": [],
   "source": [
    "data_weather['Weather'] = data['Weather']"
   ]
  },
  {
   "cell_type": "code",
   "execution_count": 478,
   "metadata": {},
   "outputs": [
    {
     "data": {
      "text/plain": [
       "Cloudy                                          1181\n",
       "Rain                                            1108\n",
       "Mostly Cloudy                                   1039\n",
       "Mainly Clear                                     962\n",
       "Clear                                            586\n",
       "Rain Showers                                     270\n",
       "Rain,Fog                                         132\n",
       "Snow                                             101\n",
       "Moderate Rain                                     51\n",
       "Fog                                               50\n",
       "Moderate Rain,Fog                                 27\n",
       "Drizzle                                           22\n",
       "Drizzle,Fog                                       18\n",
       "Rain,Snow                                         14\n",
       "Snow Showers                                      12\n",
       "Rain,Drizzle,Fog                                  12\n",
       "Rain,Drizzle                                       9\n",
       "Rain Showers,Fog                                   7\n",
       "Snow,Fog                                           7\n",
       "Moderate Snow                                      6\n",
       "Freezing Fog                                       4\n",
       "Moderate Rain Showers                              4\n",
       "Freezing Rain,Fog                                  4\n",
       "Heavy Rain,Fog                                     4\n",
       "Thunderstorms                                      3\n",
       "Rain,Snow,Fog                                      3\n",
       "Rain Showers,Snow Showers                          2\n",
       "Moderate Rain Showers,Fog                          2\n",
       "Heavy Rain                                         2\n",
       "Moderate Rain,Drizzle                              2\n",
       "Rain,Ice Pellets                                   1\n",
       "Rain Showers,Snow Pellets                          1\n",
       "Heavy Rain Showers,Moderate Snow Pellets,Fog       1\n",
       "Ice Pellets                                        1\n",
       "Moderate Snow,Fog                                  1\n",
       "Rain Showers,Snow Showers,Fog                      1\n",
       "Heavy Rain,Moderate Hail,Fog                       1\n",
       "Thunderstorms,Rain Showers                         1\n",
       "Snow,Ice Pellets,Fog                               1\n",
       "Name: Weather, dtype: int64"
      ]
     },
     "execution_count": 478,
     "metadata": {},
     "output_type": "execute_result"
    }
   ],
   "source": [
    "data_weather['Weather'].value_counts() # count each label's frequency"
   ]
  },
  {
   "cell_type": "code",
   "execution_count": 479,
   "metadata": {},
   "outputs": [],
   "source": [
    "#data_weather.to_csv(\"test.csv\")"
   ]
  },
  {
   "cell_type": "code",
   "execution_count": 480,
   "metadata": {},
   "outputs": [],
   "source": [
    "data = data[(data[\"Weather\"]==\"Clear\")|\n",
    "           (data[\"Weather\"]==\"Cloudy\")|\n",
    "           (data[\"Weather\"]==\"Mostly Cloudy\")|\n",
    "           (data[\"Weather\"]==\"Mainly Clear\")|\n",
    "           (data[\"Weather\"]==\"Rain\")|\n",
    "           (data[\"Weather\"]==\"Snow\")]\n",
    "data = data.drop(['Hmdx','Wind Chill'], axis=1)\n",
    "\n"
   ]
  },
  {
   "cell_type": "code",
   "execution_count": 481,
   "metadata": {
    "collapsed": true
   },
   "outputs": [],
   "source": [
    "data.to_csv('data/Weather.csv',index = False,encoding='utf-8')"
   ]
  },
  {
   "cell_type": "code",
   "execution_count": null,
   "metadata": {
    "collapsed": true
   },
   "outputs": [],
   "source": []
  }
 ],
 "metadata": {
  "kernelspec": {
   "display_name": "Python 3",
   "language": "python",
   "name": "python3"
  },
  "language_info": {
   "codemirror_mode": {
    "name": "ipython",
    "version": 3
   },
   "file_extension": ".py",
   "mimetype": "text/x-python",
   "name": "python",
   "nbconvert_exporter": "python",
   "pygments_lexer": "ipython3",
   "version": "3.6.1"
  }
 },
 "nbformat": 4,
 "nbformat_minor": 2
}
